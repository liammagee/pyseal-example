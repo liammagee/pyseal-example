{
 "cells": [
  {
   "cell_type": "markdown",
   "metadata": {},
   "source": [
    "### References\n",
    "\n",
    "https://medium.com/bioquest/pyseal-homomorphic-encryption-in-a-user-friendly-python-package-51dd6cb0411c"
   ]
  },
  {
   "cell_type": "markdown",
   "metadata": {},
   "source": [
    "# Imports"
   ]
  },
  {
   "cell_type": "code",
   "execution_count": 1,
   "metadata": {},
   "outputs": [],
   "source": [
    "# General python libraries\n",
    "import numpy as np\n",
    "import matplotlib as plt\n",
    "\n",
    "# PySEAL imports - taken from SEALPythonExamples/examples.py\n",
    "import time\n",
    "import random\n",
    "import threading\n",
    "import seal\n",
    "from seal import ChooserEvaluator,     \\\n",
    "                 Ciphertext,           \\\n",
    "                 Decryptor,            \\\n",
    "                 Encryptor,            \\\n",
    "                 EncryptionParameters, \\\n",
    "                 Evaluator,            \\\n",
    "                 IntegerEncoder,       \\\n",
    "                 FractionalEncoder,    \\\n",
    "                 KeyGenerator,         \\\n",
    "                 MemoryPoolHandle,     \\\n",
    "                 Plaintext,            \\\n",
    "                 SEALContext,          \\\n",
    "                 EvaluationKeys,       \\\n",
    "                 GaloisKeys,           \\\n",
    "                 PolyCRTBuilder,       \\\n",
    "                 ChooserEncoder,       \\\n",
    "                 ChooserEvaluator,     \\\n",
    "                 ChooserPoly\n"
   ]
  },
  {
   "cell_type": "markdown",
   "metadata": {},
   "source": [
    "General PySEAL parameters - see http://130.56.248.129:8889/edit/SEALPythonExamples/examples.py . A high modulus slows computation down, but seems necessary to generate correct results."
   ]
  },
  {
   "cell_type": "code",
   "execution_count": 2,
   "metadata": {},
   "outputs": [],
   "source": [
    "# General params\n",
    "parms = EncryptionParameters()\n",
    "parms.set_poly_modulus(\"1x^8192 + 1\")\n",
    "parms.set_coeff_modulus(seal.coeff_modulus_128(8192))\n",
    "parms.set_plain_modulus(786433)\n",
    "context = SEALContext(parms)"
   ]
  },
  {
   "cell_type": "markdown",
   "metadata": {},
   "source": [
    "Set up the secret and public keys."
   ]
  },
  {
   "cell_type": "code",
   "execution_count": 3,
   "metadata": {},
   "outputs": [],
   "source": [
    "keygen = KeyGenerator(context)\n",
    "public_key = keygen.public_key()\n",
    "secret_key = keygen.secret_key()"
   ]
  },
  {
   "cell_type": "markdown",
   "metadata": {},
   "source": [
    "Create encryption, evaluator, decryption and encoder objects."
   ]
  },
  {
   "cell_type": "code",
   "execution_count": 4,
   "metadata": {},
   "outputs": [],
   "source": [
    "encryptor = Encryptor(context, public_key)\n",
    "evaluator = Evaluator(context)\n",
    "decryptor = Decryptor(context, secret_key)\n",
    "encoder = FractionalEncoder(context.plain_modulus(), context.poly_modulus(), 64, 32, 3)"
   ]
  },
  {
   "cell_type": "code",
   "execution_count": 5,
   "metadata": {},
   "outputs": [],
   "source": [
    "class Cloud:\n",
    "    def __init__(self, context, public_key):\n",
    "        self.context = context\n",
    "        self.encryptor = Encryptor(self.context, public_key)\n",
    "        self.evaluator = Evaluator(self.context)\n",
    "        self.encoder = FractionalEncoder(self.context.plain_modulus(), self.context.poly_modulus(), 64, 32, 3)\n",
    "        self.encrypted_data = np.array([])\n",
    "        \n",
    "    def submit_to_the_cloud(self, encrypted_data):\n",
    "        self.encrypted_data = np.append(self.encrypted_data, encrypted_data)\n",
    "    \n",
    "    def submit_to_the_cloud_and_encrypt(self, plain_data):\n",
    "        encrypted_data = []\n",
    "        for i in range(len(plain_data)):\n",
    "            encrypted_data.append(Ciphertext(self.context.parms()))\n",
    "            self.encryptor.encrypt(self.encoder.encode(plain_data[i]), encrypted_data[i])\n",
    "        self.submit_to_the_cloud(encrypted_data)\n",
    "    \n",
    "    def zero(self):\n",
    "        value = 0;\n",
    "        plain = self.encoder.encode(value)\n",
    "        encrypted_zero = Ciphertext(self.context.parms())\n",
    "        self.encryptor.encrypt(plain, encrypted_zero)\n",
    "        return encrypted_zero\n",
    "        \n",
    "    def mean(self):\n",
    "        encrypted_result = self.zero()\n",
    "        data = np.ndarray.flatten(np.array(self.encrypted_data))\n",
    "        self.evaluator.add_many(data, encrypted_result)\n",
    "        divisor = self.encoder.encode(1 / len(data))\n",
    "        self.evaluator.multiply_plain(encrypted_result, divisor)\n",
    "        return encrypted_result\n",
    "    \n",
    "    def variance(self):\n",
    "        mu = self.mean()\n",
    "        data = np.ndarray.flatten(np.array(self.encrypted_data))\n",
    "        encrypted_result = self.zero()\n",
    "        variances = []\n",
    "        for i in range(len(data)):\n",
    "            d = data[i]\n",
    "            variances.append(self.zero())\n",
    "            res = variances[i]\n",
    "            self.evaluator.add(res, d)\n",
    "            self.evaluator.negate(res)\n",
    "            self.evaluator.add(res, mu)\n",
    "            self.evaluator.square(res)\n",
    "        encrypted_result = Ciphertext()\n",
    "        evaluator.add_many(variances, encrypted_result)\n",
    "        divisor = self.encoder.encode(1 / len(data))\n",
    "        evaluator.multiply_plain(encrypted_result, divisor)\n",
    "        return encrypted_result\n",
    "            \n",
    "    # \"At risk\" means mean + 2 x sigma, i.e. ~top 5 percentile\n",
    "    # Convoluted calculation, due to no square root, division or comparison with zero\n",
    "    # Once decrypted, > 0 means at risk\n",
    "    def at_risk(self, encrypted_value):\n",
    "        mu = self.mean()\n",
    "        evaluator.negate(mu)\n",
    "        sigma = self.variance()\n",
    "        evaluator.multiply_plain(sigma, self.encoder.encode(4)) \n",
    "        evaluator.negate(sigma)\n",
    "\n",
    "        evaluator.add(encrypted_value, mu)\n",
    "        evaluator.square(encrypted_value)\n",
    "        evaluator.add(encrypted_value, sigma)\n",
    "        return encrypted_value\n"
   ]
  },
  {
   "cell_type": "markdown",
   "metadata": {},
   "source": [
    "Blood pressure values. Taken from https://thl.fi/publications/monica/bp/table8.htm"
   ]
  },
  {
   "cell_type": "code",
   "execution_count": 6,
   "metadata": {},
   "outputs": [],
   "source": [
    "mu = 131\n",
    "sigma = 18\n",
    "blood_pressure = sigma * np.random.randn(10) + mu\n",
    "\n"
   ]
  },
  {
   "cell_type": "markdown",
   "metadata": {},
   "source": [
    "Encrypt blood pressure values"
   ]
  },
  {
   "cell_type": "code",
   "execution_count": 7,
   "metadata": {},
   "outputs": [],
   "source": [
    "encrypted_rationals = []\n",
    "for i in range(len(blood_pressure)):\n",
    "    encrypted_rationals.append(Ciphertext(parms))\n",
    "    encryptor.encrypt(encoder.encode(blood_pressure[i]), encrypted_rationals[i])"
   ]
  },
  {
   "cell_type": "markdown",
   "metadata": {},
   "source": [
    "Check non-encrypted values."
   ]
  },
  {
   "cell_type": "code",
   "execution_count": 8,
   "metadata": {},
   "outputs": [
    {
     "name": "stdout",
     "output_type": "stream",
     "text": [
      "Unencrypted mean: 132.9285\n",
      "Unencrypted variance: 267.4493\n",
      "Unencrypted std. dev.: 16.35387\n"
     ]
    }
   ],
   "source": [
    "print(\"Unencrypted mean: \" + (str)(np.mean(blood_pressure))[:8])\n",
    "print(\"Unencrypted variance: \" + (str)(np.var(blood_pressure))[:8])\n",
    "print(\"Unencrypted std. dev.: \" + (str)(np.std(blood_pressure))[:8])\n"
   ]
  },
  {
   "cell_type": "markdown",
   "metadata": {},
   "source": [
    "Simple test of our \"Cloud\". Tests that a zero value is created."
   ]
  },
  {
   "cell_type": "code",
   "execution_count": 9,
   "metadata": {},
   "outputs": [
    {
     "data": {
      "text/plain": [
       "<seal.Ciphertext at 0x7f8355b9b650>"
      ]
     },
     "execution_count": 9,
     "metadata": {},
     "output_type": "execute_result"
    }
   ],
   "source": [
    "cloud = Cloud(context, public_key)\n",
    "cloud.zero()"
   ]
  },
  {
   "cell_type": "code",
   "execution_count": 10,
   "metadata": {},
   "outputs": [
    {
     "name": "stdout",
     "output_type": "stream",
     "text": [
      "Zero: 0.0\n"
     ]
    }
   ],
   "source": [
    "cloud = Cloud(context, public_key)\n",
    "z = cloud.zero()\n",
    "plain_result = Plaintext()\n",
    "decryptor.decrypt(z, plain_result)\n",
    "result = encoder.decode(plain_result)\n",
    "print(\"Zero: \" + (str)(result)[:8])\n"
   ]
  },
  {
   "cell_type": "markdown",
   "metadata": {},
   "source": [
    "Create a \"Cloud\", submit some data, and obtain the mean and variance."
   ]
  },
  {
   "cell_type": "code",
   "execution_count": 11,
   "metadata": {},
   "outputs": [],
   "source": [
    "cloud = Cloud(context, public_key)\n",
    "cloud.submit_to_the_cloud(encrypted_rationals)\n",
    "mu = cloud.mean()\n",
    "variance = cloud.variance()\n",
    "\n"
   ]
  },
  {
   "cell_type": "markdown",
   "metadata": {},
   "source": [
    "Output cloud-generated values."
   ]
  },
  {
   "cell_type": "code",
   "execution_count": 12,
   "metadata": {},
   "outputs": [
    {
     "name": "stdout",
     "output_type": "stream",
     "text": [
      "Blood pressure average: 132.9285\n",
      "Blood pressure variance: 267.4493\n",
      "Blood pressure std. dev.: 16.35387\n"
     ]
    }
   ],
   "source": [
    "\n",
    "plain_result = Plaintext()\n",
    "decryptor.decrypt(mu, plain_result)\n",
    "result = encoder.decode(plain_result)\n",
    "print(\"Blood pressure average: \" + (str)(result)[:8])\n",
    "plain_result = Plaintext()\n",
    "decryptor.decrypt(variance, plain_result)\n",
    "result = encoder.decode(plain_result)\n",
    "print(\"Blood pressure variance: \" + (str)(result)[:8])\n",
    "print(\"Blood pressure std. dev.: \" + (str)(np.sqrt(result))[:8])\n"
   ]
  },
  {
   "cell_type": "markdown",
   "metadata": {},
   "source": [
    "Create a test patient value to compare."
   ]
  },
  {
   "cell_type": "code",
   "execution_count": 17,
   "metadata": {},
   "outputs": [],
   "source": [
    "patient_X_bp = 160\n",
    "encrypted_patient_value = Ciphertext(parms)\n",
    "encryptor.encrypt(encoder.encode(patient_X_bp), encrypted_patient_value)"
   ]
  },
  {
   "cell_type": "code",
   "execution_count": 18,
   "metadata": {},
   "outputs": [
    {
     "name": "stdout",
     "output_type": "stream",
     "text": [
      "132.92851180752135\n",
      "1069.7972026453433\n",
      "732.8654729555112\n"
     ]
    }
   ],
   "source": [
    "sq_mu = np.mean(blood_pressure)\n",
    "print(sq_mu)\n",
    "sq_mu = np.var(blood_pressure)\n",
    "print(sq_mu * 4)\n",
    "print(np.square(patient_X_bp - np.mean(blood_pressure)))"
   ]
  },
  {
   "cell_type": "markdown",
   "metadata": {},
   "source": [
    "Check whether the patient is \"at risk\"."
   ]
  },
  {
   "cell_type": "code",
   "execution_count": 23,
   "metadata": {},
   "outputs": [
    {
     "name": "stdout",
     "output_type": "stream",
     "text": [
      "Blood pressure at risk: False\n"
     ]
    }
   ],
   "source": [
    "ar = cloud.at_risk(encrypted_patient_value)\n",
    "plain_result = Plaintext()\n",
    "decryptor.decrypt(ar, plain_result)\n",
    "result = encoder.decode(plain_result)\n",
    "print(\"Blood pressure at risk: \" + (str)(result > 0))"
   ]
  },
  {
   "cell_type": "code",
   "execution_count": 21,
   "metadata": {},
   "outputs": [],
   "source": [
    "cloud = Cloud(context, public_key)\n",
    "cloud.submit_to_the_cloud_and_encrypt(blood_pressure)\n",
    "encrypted_result = cloud.mean()"
   ]
  },
  {
   "cell_type": "code",
   "execution_count": 22,
   "metadata": {},
   "outputs": [
    {
     "name": "stdout",
     "output_type": "stream",
     "text": [
      "Blood pressure average: 132.9285\n"
     ]
    }
   ],
   "source": [
    "plain_result = Plaintext()\n",
    "decryptor.decrypt(encrypted_result, plain_result)\n",
    "result = encoder.decode(plain_result)\n",
    "print(\"Blood pressure average: \" + (str)(result)[:8])"
   ]
  },
  {
   "cell_type": "code",
   "execution_count": null,
   "metadata": {},
   "outputs": [],
   "source": []
  }
 ],
 "metadata": {
  "kernelspec": {
   "display_name": "Python 3",
   "language": "python",
   "name": "python3"
  },
  "language_info": {
   "codemirror_mode": {
    "name": "ipython",
    "version": 3
   },
   "file_extension": ".py",
   "mimetype": "text/x-python",
   "name": "python",
   "nbconvert_exporter": "python",
   "pygments_lexer": "ipython3",
   "version": "3.6.3"
  }
 },
 "nbformat": 4,
 "nbformat_minor": 2
}
